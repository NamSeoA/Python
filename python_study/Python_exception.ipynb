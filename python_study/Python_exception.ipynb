{
 "cells": [
  {
   "cell_type": "code",
   "execution_count": 3,
   "metadata": {
    "scrolled": true
   },
   "outputs": [
    {
     "name": "stdout",
     "output_type": "stream",
     "text": [
      "정수 입력해주세요. >>\n",
      "예외가 발생했습니다.\n"
     ]
    }
   ],
   "source": [
    "try :\n",
    "    number_input_a= int(input('정수 입력해주세요. >>'))\n",
    "    \n",
    "    print(\"제곱의 연산 결과 :\", number_input_a*number_input_a)\n",
    "except : #어떠한 예외가 발생하든 이곳에서 처리\n",
    "    print('예외가 발생했습니다.')"
   ]
  },
  {
   "cell_type": "code",
   "execution_count": 6,
   "metadata": {},
   "outputs": [
    {
     "name": "stdout",
     "output_type": "stream",
     "text": [
      "정수 입력해주세요. >>일곱\n"
     ]
    }
   ],
   "source": [
    "try :\n",
    "    number_input_a= int(input('정수 입력해주세요. >> '))\n",
    "    \n",
    "    print(\"제곱의 연산 결과 :\", number_input_a*number_input_a)\n",
    "except : #어떠한 예외가 발생하든 이곳에서 처리\n",
    "    pass # 일단 처리해야 하지만, 해당 코드가 중요한 부분이 아니거나 아무것도 넣지 않을 때 기술"
   ]
  },
  {
   "cell_type": "code",
   "execution_count": 6,
   "metadata": {},
   "outputs": [
    {
     "name": "stdout",
     "output_type": "stream",
     "text": [
      "정수 입력해주세요. >>일곱\n"
     ]
    }
   ],
   "source": [
    "try :\n",
    "    # 예외 발생 예상코드\n",
    "    number_input_a= int(input('정수 입력해주세요. >> '))\n",
    "    \n",
    "except : #어떠한 예외가 발생하든 이곳에서 처리\n",
    "    #pass # 일단 처리해야 하지만, 해당 코드가 중요한 부분이 아니거나 아무것도 넣지 않을 때 기술\n",
    "    print('예외가 발생했습니다.')\n",
    "\n",
    "else: #예외가 발생하지 않았을 때 처리 구분\n",
    "     print(\"제곱의 연산 결과 :\", number_input_a*number_input_a)"
   ]
  },
  {
   "cell_type": "code",
   "execution_count": 7,
   "metadata": {},
   "outputs": [
    {
     "name": "stdout",
     "output_type": "stream",
     "text": [
      "정수 입력해주세요. >> 10\n",
      "제곱의 연산 결과 : 100\n",
      "프로그램을 종료합니다.\n"
     ]
    }
   ],
   "source": [
    "try :\n",
    "    # 예외 발생 예상코드\n",
    "    number_input_a= int(input('정수 입력해주세요. >> '))\n",
    "    \n",
    "except : #어떠한 예외가 발생하든 이곳에서 처리\n",
    "    #pass # 일단 처리해야 하지만, 해당 코드가 중요한 부분이 아니거나 아무것도 넣지 않을 때 기술\n",
    "    print('예외가 발생했습니다.')\n",
    "\n",
    "else: #예외가 발생하지 않았을 때 처리 구분\n",
    "     print(\"제곱의 연산 결과 :\", number_input_a*number_input_a)\n",
    "        \n",
    "finally:\n",
    "    # 예외 발생 여부와 관계없이 무조건 실행할 경우 사용\n",
    "    print('프로그램을 종료합니다.')"
   ]
  },
  {
   "cell_type": "code",
   "execution_count": 8,
   "metadata": {},
   "outputs": [
    {
     "name": "stdout",
     "output_type": "stream",
     "text": [
      "정수 입력해주세요. >> 십\n",
      "예외가 발생했습니다.\n",
      "<class 'ValueError'>\n",
      "invalid literal for int() with base 10: '십'\n",
      "프로그램을 종료합니다.\n"
     ]
    }
   ],
   "source": [
    "try :\n",
    "    # 예외 발생 예상코드\n",
    "    number_input_a= int(input('정수 입력해주세요. >> '))\n",
    "    \n",
    "except Exception as e : #어떠한 예외가 발생하든 이곳에서 처리\n",
    "    #pass # 일단 처리해야 하지만, 해당 코드가 중요한 부분이 아니거나 아무것도 넣지 않을 때 기술\n",
    "    print('예외가 발생했습니다.')\n",
    "    print(type(e)) # : <class 'ValueError'>\n",
    "    print(e) # : invalid literal for int() with base 10: '십'\n",
    "\n",
    "else: #예외가 발생하지 않았을 때 처리 구분\n",
    "     print(\"제곱의 연산 결과 :\", number_input_a*number_input_a)\n",
    "        \n",
    "finally:\n",
    "    # 예외 발생 여부와 관계없이 무조건 실행할 경우 사용\n",
    "    print('프로그램을 종료합니다.')"
   ]
  },
  {
   "cell_type": "code",
   "execution_count": 12,
   "metadata": {},
   "outputs": [
    {
     "name": "stdout",
     "output_type": "stream",
     "text": [
      "리스트의 index를 입력하세요. >> 영\n",
      "숫자만 입력해주세요.\n",
      "invalid literal for int() with base 10: '영'\n"
     ]
    }
   ],
   "source": [
    "list_a = [10, 20, 30, 40, 50]\n",
    "\n",
    "try : \n",
    "    idx = int(input('리스트의 index를 입력하세요. >> ')) # 예외발생 예상 구문\n",
    "    print('{}번째 요소 : {}'.format(idx, list_a[idx])) # 예외발생 예상 구문\n",
    "    \n",
    "except ValueError as ve :\n",
    "    print('숫자만 입력해주세요.')\n",
    "    print(ve) # invalid literal for int() with base 10: '영'\n",
    "    \n",
    "except IndexError as ie :\n",
    "    print('리스트이 범위를 벗어난 인덱스 값입니다.')\n",
    "    print(ie) # list index out of range\n",
    "    \n",
    "    "
   ]
  },
  {
   "cell_type": "code",
   "execution_count": null,
   "metadata": {},
   "outputs": [],
   "source": []
  },
  {
   "cell_type": "code",
   "execution_count": null,
   "metadata": {},
   "outputs": [],
   "source": []
  },
  {
   "cell_type": "code",
   "execution_count": null,
   "metadata": {},
   "outputs": [],
   "source": []
  },
  {
   "cell_type": "code",
   "execution_count": null,
   "metadata": {},
   "outputs": [],
   "source": []
  },
  {
   "cell_type": "code",
   "execution_count": null,
   "metadata": {},
   "outputs": [],
   "source": []
  }
 ],
 "metadata": {
  "kernelspec": {
   "display_name": "Python 3",
   "language": "python",
   "name": "python3"
  },
  "language_info": {
   "codemirror_mode": {
    "name": "ipython",
    "version": 3
   },
   "file_extension": ".py",
   "mimetype": "text/x-python",
   "name": "python",
   "nbconvert_exporter": "python",
   "pygments_lexer": "ipython3",
   "version": "3.8.5"
  }
 },
 "nbformat": 4,
 "nbformat_minor": 4
}
