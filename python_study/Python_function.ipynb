{
 "cells": [
  {
   "cell_type": "code",
   "execution_count": 5,
   "metadata": {},
   "outputs": [
    {
     "name": "stdout",
     "output_type": "stream",
     "text": [
      "['AA', 'BB', 'CC']\n",
      "\n",
      "<enumerate object at 0x7fe50000dbc0>\n",
      "[(0, 'AA'), (1, 'BB'), (2, 'CC')]\n",
      "0 AA\n",
      "\n"
     ]
    }
   ],
   "source": [
    "list_ex = ['AA', 'BB', 'CC']\n",
    "\n",
    "#list_ex 출력\n",
    "print(list_ex)\n",
    "print()\n",
    "\n",
    "# list_ex -> enumberate() : 요소들의 index를 사용하기 위해 enumerate\n",
    "list_ex_en = enumerate(list_ex)\n",
    "print(list_ex_en)\n",
    "\n",
    "# enumerate 객체 -> list 객체\n",
    "list_ex2 = list(list_ex_en)\n",
    "print(list_ex2)\n",
    "\n",
    "# 변수의 초기화 (할당)\n",
    "i, v = list_ex2[0]\n",
    "\n",
    "print(i, v)\n",
    "\n",
    "print()\n",
    "\n",
    "for i, v in list_ex2:\n",
    "    print(i, v)"
   ]
  },
  {
   "cell_type": "code",
   "execution_count": 8,
   "metadata": {},
   "outputs": [
    {
     "name": "stdout",
     "output_type": "stream",
     "text": [
      "{'name': '메시', 'number': 10, 'team': 'FCB'}\n",
      "dict_items([('name', '메시'), ('number', 10), ('team', 'FCB')])\n",
      "\n",
      "메시의 정보 ============\n",
      "name : 메시\n",
      "number : 10\n",
      "team : FCB\n"
     ]
    }
   ],
   "source": [
    "# dic의 속성을 일괄 처리\n",
    "# item() :\n",
    "# dic의 속성과 값을 하나로 묶어 요소를 만들고 이 요소들을 가지는 리스트 반환\n",
    "\n",
    "dic_player = {\n",
    "    'name':'메시',\n",
    "    'number':10,\n",
    "    'team':'FCB'\n",
    "}\n",
    "print(dic_player)\n",
    "\n",
    "\n",
    "\n",
    "# dic -> list\n",
    "list_player_att = dic_player.items()\n",
    "print(list_player_att)\n",
    "\n",
    "print()\n",
    "print('메시의 정보 ============')\n",
    "for key, value in list_player_att:\n",
    "    print(key, ':', value)"
   ]
  },
  {
   "cell_type": "code",
   "execution_count": null,
   "metadata": {},
   "outputs": [],
   "source": [
    "# list 요소 생성\n",
    "# 1\n",
    "array = []\n",
    "\n",
    "for i in range(0, 20, 2):\n",
    "    array.append(i*i)\n",
    "\n",
    "print(array)\n",
    "\n",
    "print()\n",
    "\n",
    "# 2\n",
    "array2 = [i*i for i in range(0, 20, 2)]\n",
    "print(array2)\n",
    "\n",
    "print()\n",
    "\n",
    "# 3\n",
    "array3 = [i for i in array2 if i>100]\n",
    "print(array3)\n"
   ]
  },
  {
   "cell_type": "code",
   "execution_count": 1,
   "metadata": {},
   "outputs": [
    {
     "name": "stdout",
     "output_type": "stream",
     "text": [
      "A\n",
      "A\n",
      "A\n"
     ]
    }
   ],
   "source": [
    "# 함수 정의\n",
    "# def 함수이름(매개변수, 매개변수, ...)\n",
    "\n",
    "def print_3_times():\n",
    "    print('A')\n",
    "    print('A')\n",
    "    print('A')\n",
    "    \n",
    "print_3_times()"
   ]
  },
  {
   "cell_type": "code",
   "execution_count": 4,
   "metadata": {},
   "outputs": [],
   "source": [
    "# 매개변수\n",
    "def print_n_times(val, n):\n",
    "    for i in range(n):\n",
    "        print(val)\n",
    "    print('함수의 기능 실행 완료')\n",
    "    \n",
    "print_n_times('Python',2)\n",
    "\n",
    "print_n_times('Python')\n",
    "#print_n_times('Python','five')"
   ]
  },
  {
   "cell_type": "code",
   "execution_count": null,
   "metadata": {},
   "outputs": [],
   "source": [
    "# 함수의 가변 매개변수\n",
    "def print_times(n, *vals):\n",
    "    \n",
    "    for i in range(n):\n",
    "        \n",
    "        for val in vals:\n",
    "            print(val)\n",
    "        \n",
    "        print()\n",
    "    \n",
    "    print('함수 종료')\n",
    "    \n",
    "\n",
    "print_times(3, 'HI~', 'funny', 'Python Programming')"
   ]
  },
  {
   "cell_type": "code",
   "execution_count": null,
   "metadata": {},
   "outputs": [],
   "source": [
    "# 기본 매개변수\n",
    "# print -> sep=' ', end='\\n' , file=sys.stdout, flush=False\n",
    "print('aa', 'bb', 'cc', end='\\t')\n",
    "print('aa', 'bb', 'cc', sep='/', end='\\t')\n",
    "print('11', '11', '32', sep=':')"
   ]
  },
  {
   "cell_type": "code",
   "execution_count": null,
   "metadata": {},
   "outputs": [],
   "source": [
    "# 함수의 가변 매개변수\n",
    "def print_nn_times(*vals, n=2):\n",
    "    \n",
    "    for i in range(n):\n",
    "        \n",
    "        for val in vals:\n",
    "            print(val)\n",
    "        \n",
    "        print()\n",
    "    \n",
    "    print('함수 종료')\n",
    "    \n",
    "\n",
    "print_nn_times('HI~', 'funny', 'Python Programming', n=3)"
   ]
  },
  {
   "cell_type": "code",
   "execution_count": null,
   "metadata": {},
   "outputs": [],
   "source": [
    "# 함수의 return\n",
    "\n",
    "def func():\n",
    "    return\n",
    "\n",
    "print(func())"
   ]
  },
  {
   "cell_type": "code",
   "execution_count": null,
   "metadata": {},
   "outputs": [],
   "source": [
    "# 튜플\n",
    "\n",
    "a,b = [10, 20]\n",
    "(c,d) = (30, 40)\n",
    "\n",
    "e,f = 50, 60\n",
    "\n",
    "print(a,b,c,d,e,f )\n",
    "\n",
    "a, b = b , a\n",
    "\n",
    "print(a,b,c,d,e,f )"
   ]
  },
  {
   "cell_type": "code",
   "execution_count": null,
   "metadata": {},
   "outputs": [],
   "source": [
    "def power(item):\n",
    "    return item*item\n",
    "\n",
    "def under_3(item):\n",
    "    return item<3;\n",
    "\n",
    "list_a = [1,2,3,4,5]\n",
    "\n",
    "# map() 이용해서 리스트 생성\n",
    "# output_a = map(power, list_a)\n",
    "# lamda 를 이용한 함수 정의\n",
    "output_a = map(lambda x: x*x , list_a)\n",
    "print(output_a)\n",
    "output_list_a = list(output_a)\n",
    "print(output_list_a)\n",
    "\n",
    "# filter\n",
    "#output_b = filter(under_3, list_a)\n",
    "output_b = filter(lambda x: x<3, list_a)\n",
    "print(output_b)\n",
    "output_list_b = list(output_b)\n",
    "print(output_list_b)\n"
   ]
  },
  {
   "cell_type": "code",
   "execution_count": null,
   "metadata": {},
   "outputs": [],
   "source": [
    "# open() : 파일 I/O 처리할때 사용\n",
    "\n",
    "file = open('basic.txt', 'w')\n",
    "\n",
    "file.write('Hello~ Python !!')\n",
    "\n",
    "file.close()"
   ]
  },
  {
   "cell_type": "code",
   "execution_count": null,
   "metadata": {},
   "outputs": [],
   "source": [
    "# with : open() 함수 사용 후 close() 함수를 자동으로 호출\n",
    "\n",
    "with open('basic.txt', 'w') as file:\n",
    "    file.write('Hi~ Python !!')"
   ]
  },
  {
   "cell_type": "code",
   "execution_count": 1,
   "metadata": {},
   "outputs": [
    {
     "ename": "FileNotFoundError",
     "evalue": "[Errno 2] No such file or directory: 'basic.txt'",
     "output_type": "error",
     "traceback": [
      "\u001b[0;31m---------------------------------------------------------------------------\u001b[0m",
      "\u001b[0;31mFileNotFoundError\u001b[0m                         Traceback (most recent call last)",
      "\u001b[0;32m<ipython-input-1-07f3a589f3c7>\u001b[0m in \u001b[0;36m<module>\u001b[0;34m\u001b[0m\n\u001b[1;32m      1\u001b[0m \u001b[0;31m# read() : 파일의 내용 텍스트 읽기\u001b[0m\u001b[0;34m\u001b[0m\u001b[0;34m\u001b[0m\u001b[0;34m\u001b[0m\u001b[0m\n\u001b[1;32m      2\u001b[0m \u001b[0;34m\u001b[0m\u001b[0m\n\u001b[0;32m----> 3\u001b[0;31m \u001b[0;32mwith\u001b[0m \u001b[0mopen\u001b[0m\u001b[0;34m(\u001b[0m\u001b[0;34m'basic.txt'\u001b[0m\u001b[0;34m,\u001b[0m \u001b[0;34m'r'\u001b[0m\u001b[0;34m)\u001b[0m \u001b[0;32mas\u001b[0m \u001b[0mfile\u001b[0m\u001b[0;34m:\u001b[0m\u001b[0;34m\u001b[0m\u001b[0;34m\u001b[0m\u001b[0m\n\u001b[0m\u001b[1;32m      4\u001b[0m     \u001b[0mcontent\u001b[0m \u001b[0;34m=\u001b[0m \u001b[0mfile\u001b[0m\u001b[0;34m.\u001b[0m\u001b[0mread\u001b[0m\u001b[0;34m(\u001b[0m\u001b[0;34m)\u001b[0m\u001b[0;34m\u001b[0m\u001b[0;34m\u001b[0m\u001b[0m\n\u001b[1;32m      5\u001b[0m     \u001b[0mprint\u001b[0m\u001b[0;34m(\u001b[0m\u001b[0mtype\u001b[0m\u001b[0;34m(\u001b[0m\u001b[0mcontent\u001b[0m\u001b[0;34m)\u001b[0m\u001b[0;34m)\u001b[0m\u001b[0;34m\u001b[0m\u001b[0;34m\u001b[0m\u001b[0m\n",
      "\u001b[0;31mFileNotFoundError\u001b[0m: [Errno 2] No such file or directory: 'basic.txt'"
     ]
    }
   ],
   "source": [
    "# read() : 파일의 내용 텍스트 읽기\n",
    "\n",
    "with open('basic.txt', 'r') as file:\n",
    "    content = file.read()\n",
    "    print(type(content))\n",
    "    print(content)\n"
   ]
  },
  {
   "cell_type": "code",
   "execution_count": null,
   "metadata": {},
   "outputs": [],
   "source": [
    "import random\n",
    "\n",
    "han = list('가나다라마바사아자차카타파하')\n",
    "print(han)\n",
    "\n",
    "with open('info.txt', 'w') as file:\n",
    "    \n",
    "    for i in range(1000):\n",
    "        name = random.choice(han) + random.choice(han) + random.choice(han)\n",
    "        weight = random.randrange(40, 100)\n",
    "        height = random.randrange(140, 200)\n",
    "\n",
    "        file.write('{}, {}, {}\\n'.format(name, weight, height))\n",
    "    \n",
    "    print('파일 생성 완료')\n"
   ]
  },
  {
   "cell_type": "code",
   "execution_count": null,
   "metadata": {},
   "outputs": [],
   "source": [
    "with open('info.txt', 'r') as file:\n",
    "    \n",
    "    cnt = 0;\n",
    "    \n",
    "    for line in file :\n",
    "        \n",
    "        if cnt > 30 :\n",
    "            break        \n",
    "        #print(line.strip())        \n",
    "        \n",
    "        \n",
    "        name, weight, height = line.strip().split(', ')\n",
    "        \n",
    "        # 변수의 값의 유무를 확인하고 값을 처리하지 않는 처리\n",
    "        if (not name) or (not weight) or (not height):\n",
    "            continue\n",
    "        \n",
    "        # 비만도 계산\n",
    "        bmi = int(weight) / ((int(height)/100) * (int(height)/100))\n",
    "        \n",
    "        \n",
    "        result = ''        \n",
    "        if bmi >= 23 :\n",
    "            result = '과체중'\n",
    "        elif bmi >= 18.5 :\n",
    "            result = '정상체중'\n",
    "        else :\n",
    "            result = '저체중'\n",
    "        \n",
    "        print('{}, {}, {}, {}, {}'.format(name, weight, height, bmi, result))\n",
    "        \n",
    "        cnt += 1"
   ]
  },
  {
   "cell_type": "code",
   "execution_count": null,
   "metadata": {},
   "outputs": [],
   "source": []
  },
  {
   "cell_type": "code",
   "execution_count": null,
   "metadata": {},
   "outputs": [],
   "source": []
  }
 ],
 "metadata": {
  "kernelspec": {
   "display_name": "Python 3",
   "language": "python",
   "name": "python3"
  },
  "language_info": {
   "codemirror_mode": {
    "name": "ipython",
    "version": 3
   },
   "file_extension": ".py",
   "mimetype": "text/x-python",
   "name": "python",
   "nbconvert_exporter": "python",
   "pygments_lexer": "ipython3",
   "version": "3.8.5"
  }
 },
 "nbformat": 4,
 "nbformat_minor": 4
}
