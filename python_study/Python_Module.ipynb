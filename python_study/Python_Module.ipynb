{
 "cells": [
  {
   "cell_type": "code",
   "execution_count": 3,
   "metadata": {},
   "outputs": [
    {
     "name": "stdout",
     "output_type": "stream",
     "text": [
      "3.141592653589793\n",
      "123\n"
     ]
    }
   ],
   "source": [
    "# module은 내장 module과 외부 module로 구분\n",
    "# 내장 module python 내부에서 제공해주는 모듈\n",
    "# 외부 module은 사용자(프로그래머)가 설치해서 사용하는 모듈\n",
    "\n",
    "# math 모듈을 로드\n",
    "import math\n",
    "\n",
    "print(math.pi)\n",
    "print(math.floor(123.456))"
   ]
  },
  {
   "cell_type": "code",
   "execution_count": 7,
   "metadata": {},
   "outputs": [
    {
     "name": "stdout",
     "output_type": "stream",
     "text": [
      "123\n"
     ]
    }
   ],
   "source": [
    "# math 모듈에서 floor 함수만 로드\n",
    "from math import floor\n",
    "\n",
    "print(floor(123.456))"
   ]
  },
  {
   "cell_type": "code",
   "execution_count": 8,
   "metadata": {},
   "outputs": [
    {
     "name": "stdout",
     "output_type": "stream",
     "text": [
      "123\n"
     ]
    }
   ],
   "source": [
    "# 로드하는 모듈의 별칭 정의 (길어지는 모듈을 짧게 줄일 수 있다)\n",
    "import math as m\n",
    "\n",
    "print(m.floor(123.456))"
   ]
  },
  {
   "cell_type": "code",
   "execution_count": 36,
   "metadata": {},
   "outputs": [
    {
     "name": "stdout",
     "output_type": "stream",
     "text": [
      "random.random() :  0.9057306618014154\n",
      "random.uniform(10,20) :  14.878948535650201\n",
      "random.randrange(10) :  1\n",
      "random.randrange(10, 20) :  19\n",
      "random.choice(list_a) :  3\n",
      "[4, 5]\n"
     ]
    }
   ],
   "source": [
    "# 난수 발생 \n",
    "\n",
    "import random \n",
    "\n",
    "# random()\n",
    "print ('random.random() : ', random.random())\n",
    "print('random.uniform(10,20) : ', random.uniform(10,20))\n",
    "\n",
    "print('random.randrange(10) : ', random.randrange(10))\n",
    "print('random.randrange(10, 20) : ', random.randrange(10, 20))\n",
    "\n",
    "\n",
    "list_a = [1,2,3,4,5]\n",
    "print('random.choice(list_a) : ',random.choice(list_a))\n",
    "# list_b = random.shuffle([1,20,3,40,5])\n",
    "# print(list_b)\n",
    "\n",
    "print(random.sample(list_a, k=2))"
   ]
  },
  {
   "cell_type": "code",
   "execution_count": 44,
   "metadata": {},
   "outputs": [
    {
     "name": "stdout",
     "output_type": "stream",
     "text": [
      "['/Users/seoa/opt/anaconda3/lib/python3.8/site-packages/ipykernel_launcher.py', '-f', '/Users/seoa/Library/Jupyter/runtime/kernel-885304c4-3337-49be-94f3-9787b9e289d3.json']\n"
     ]
    },
    {
     "ename": "AttributeError",
     "evalue": "module 'sys' has no attribute 'getwindowsversion'",
     "output_type": "error",
     "traceback": [
      "\u001b[0;31m---------------------------------------------------------------------------\u001b[0m",
      "\u001b[0;31mAttributeError\u001b[0m                            Traceback (most recent call last)",
      "\u001b[0;32m<ipython-input-44-ceb731b1e445>\u001b[0m in \u001b[0;36m<module>\u001b[0;34m\u001b[0m\n\u001b[1;32m      3\u001b[0m \u001b[0mprint\u001b[0m\u001b[0;34m(\u001b[0m\u001b[0msys\u001b[0m\u001b[0;34m.\u001b[0m\u001b[0margv\u001b[0m\u001b[0;34m)\u001b[0m\u001b[0;34m\u001b[0m\u001b[0;34m\u001b[0m\u001b[0m\n\u001b[1;32m      4\u001b[0m \u001b[0;34m\u001b[0m\u001b[0m\n\u001b[0;32m----> 5\u001b[0;31m \u001b[0mprint\u001b[0m\u001b[0;34m(\u001b[0m\u001b[0msys\u001b[0m\u001b[0;34m.\u001b[0m\u001b[0mgetwindowsversion\u001b[0m\u001b[0;34m(\u001b[0m\u001b[0;34m)\u001b[0m\u001b[0;34m)\u001b[0m\u001b[0;34m\u001b[0m\u001b[0;34m\u001b[0m\u001b[0m\n\u001b[0m\u001b[1;32m      6\u001b[0m \u001b[0mprint\u001b[0m\u001b[0;34m(\u001b[0m\u001b[0msys\u001b[0m\u001b[0;34m.\u001b[0m\u001b[0mcopyright\u001b[0m\u001b[0;34m)\u001b[0m\u001b[0;34m\u001b[0m\u001b[0;34m\u001b[0m\u001b[0m\n\u001b[1;32m      7\u001b[0m \u001b[0mprint\u001b[0m\u001b[0;34m(\u001b[0m\u001b[0msys\u001b[0m\u001b[0;34m.\u001b[0m\u001b[0mversion\u001b[0m\u001b[0;34m)\u001b[0m\u001b[0;34m\u001b[0m\u001b[0;34m\u001b[0m\u001b[0m\n",
      "\u001b[0;31mAttributeError\u001b[0m: module 'sys' has no attribute 'getwindowsversion'"
     ]
    }
   ],
   "source": [
    "import sys\n",
    "\n",
    "print(sys.argv)\n",
    "\n",
    "print(sys.getwindowsversion())\n",
    "print(sys.copyright)\n",
    "print(sys.version)\n",
    "\n",
    "sys.exit()"
   ]
  },
  {
   "cell_type": "code",
   "execution_count": null,
   "metadata": {},
   "outputs": [],
   "source": [
    "import sys\n",
    "\n",
    "print(sys.name)\n",
    "print(sys.getcwd)\n",
    "print(sys.listdir())\n",
    "\n"
   ]
  },
  {
   "cell_type": "code",
   "execution_count": 48,
   "metadata": {},
   "outputs": [
    {
     "name": "stdout",
     "output_type": "stream",
     "text": [
      "posix\n",
      "<built-in function getcwd>\n",
      "['Python_flow_control.ipynb', 'newName.txt', 'Python_function.ipynb', 'Python_Module.ipynb', 'firstPython.ipynb', 'first.py', 'test.txt', '.ipynb_checkpoints', 'Python_exception.ipynb', 'Python_val_type.ipynb']\n"
     ]
    }
   ],
   "source": [
    "import os\n",
    "\n",
    "print(os.name)\n",
    "print(os.getcwd)\n",
    "print(os.listdir())\n",
    "\n",
    "# os.mkdir('test')\n",
    "# os.rmdir('test')\n",
    "\n",
    "# with open('test.txt', 'w') as file:\n",
    "#     file.write('test')\n",
    "    \n",
    "# os.rename('test.txt', 'newName.txt')\n",
    "\n",
    "os.system('dir/w')"
   ]
  },
  {
   "cell_type": "code",
   "execution_count": 77,
   "metadata": {},
   "outputs": [
    {
     "name": "stdout",
     "output_type": "stream",
     "text": [
      "현재 시간 구하기\n",
      "2021.2.9.11.8.54\n",
      "2021-02-09 11:08:54.950556\n",
      "2021. 02. 10. 12:09:54\n",
      "2022-02-09 11:08:54.950556\n"
     ]
    }
   ],
   "source": [
    "import datetime\n",
    "\n",
    "print('현재 시간 구하기')\n",
    "\n",
    "now = datetime.datetime.now()\n",
    "\n",
    "print(now.year, end=\".\")\n",
    "print(now.month, end=\".\")\n",
    "print(now.day, end=\".\")\n",
    "print(now.hour, end=\".\")\n",
    "print(now.minute, end=\".\")\n",
    "print(now.second)\n",
    "print(now)\n",
    "\n",
    "after = now + datetime.timedelta(days=1, hours=1, minutes=1) #증가\n",
    "print(after.strftime('%Y. %m. %d. %H:%M:%S'))\n",
    "\n",
    "output = now.replace(year=(now.year+1))\n",
    "print(output)"
   ]
  },
  {
   "cell_type": "code",
   "execution_count": 81,
   "metadata": {},
   "outputs": [
    {
     "name": "stdout",
     "output_type": "stream",
     "text": [
      "0\n",
      "1\n",
      "2\n",
      "3\n",
      "4\n",
      "프로그램 종료\n"
     ]
    }
   ],
   "source": [
    "import time\n",
    "\n",
    "for i in range(5):\n",
    "    print(i)\n",
    "    time.sleep(1) # 1초 쉬었다가\n",
    "    \n",
    "print('프로그램 종료')"
   ]
  },
  {
   "cell_type": "code",
   "execution_count": 83,
   "metadata": {
    "collapsed": true
   },
   "outputs": [
    {
     "name": "stdout",
     "output_type": "stream",
     "text": [
      "b'<!doctype html><html itemscope=\"\" itemtype=\"http://schema.org/WebPage\" lang=\"ko\"><head><meta content=\"text/html; charset=UTF-8\" http-equiv=\"Content-Type\"><meta content=\"/images/branding/googleg/1x/googleg_standard_color_128dp.png\" itemprop=\"image\"><title>Google</title><script nonce=\"OSM8lZF8+EO7IB/VGS5ppQ==\">(function(){window.google={kEI:\\'jvAhYOmRNZTrmAXrnoDYBg\\',kEXPI:\\'0,18167,1341242,954,756,4348,207,3204,10,1590,2316,383,246,5,1354,4414,3,833,2342,2990,7,1117177,1232,1196469,582,302679,26305,51224,16114,28684,9188,8384,4858,1362,9291,3027,4740,12841,4020,978,13228,2054,920,873,10622,14528,4518,2776,919,2277,9,2795,885,709,1278,2212,530,149,1103,840,517,1522,4258,312,1137,2,2063,606,2023,1777,520,4166,3,100,328,1284,2943,5846,3227,1990,855,7,12354,5096,7877,4928,108,3407,908,2,941,2614,2397,10745,3,346,230,970,865,4624,149,5991,6323,1661,4,498,1030,2304,1236,1145,4658,1791,2892,460,1555,4067,1036,4598,1426,714,1578,3203,1753,2658,4761,912,564,464,655,31,1301,2552,24,3210,875,167,3285,2214,2305,639,1493,605,2,4659,320,2361,55,6790,587,11,1396,2146,376,3308,1480,1047,479,142,370,1057,906,777,363,17,968,2153,6,908,3,3541,1,3774,2211,520,494,1633,1312,116,130,255,928,80,489,2768,1187,369,296,245,38,671,3637,1940,598,20,1260,536,1,657,2,60,1014,179,2065,299,681,401,31,3524,45,77,139,249,116,68,898,33,191,2,338,218,4,114,665,55,178,403,246,688,46,310,2,131,207,2,54,4,68,2,68,227,170,654,373,311,229,1836,391,980,913,331,2,5696956,3505,365,35,62,8797949,549,333,444,1,2,80,1,900,896,1,9,2,2551,1,748,141,59,736,563,1,4265,1,1,2,1331,3299,248,595,1,2608,155,17,13,19,53,37,1,10,9,35,46,23957257,4011537\\',kBL:\\'Zsxy\\'};google.sn=\\'webhp\\';google.kHL=\\'ko\\';})();(function(){\\ngoogle.lc=[];google.li=0;google.getEI=function(a){for(var b;a&&(!a.getAttribute||!(b=a.getAttribute(\"eid\")));)a=a.parentNode;return b||google.kEI};google.getLEI=function(a){for(var b=null;a&&(!a.getAttribute||!(b=a.getAttribute(\"leid\")));)a=a.parentNode;return b};google.ml=function(){return null};google.time=function(){return Date.now()};google.log=function(a,b,c,d,f){if(c=google.logUrl(a,b,c,d,f)){a=new Image;var e=google.lc,g=google.li;e[g]=a;a.onerror=a.onload=a.onabort=function(){delete e[g]};a.src=c;google.li=g+1}};google.logUrl=function(a,b,c,d,f){var e=\"\";c||-1!=b.search(\"&ei=\")||(e=\"&ei=\"+google.getEI(d),-1==b.search(\"&lei=\")&&(d=google.getLEI(d))&&(e+=\"&lei=\"+d));d=\"\";!c&&window._cshid&&-1==b.search(\"&cshid=\")&&\"slh\"!=a&&(d=\"&cshid=\"+window._cshid);c=c||\"/\"+(f||\"gen_204\")+\"?atyp=i&ct=\"+a+\"&cad=\"+b+e+\"&zx=\"+Date.now()+d;/^http:/i.test(c)&&\"https:\"==window.location.protocol&&(google.ml(Error(\"a\"),!1,{src:c,glmm:1}),c=\"\");return c};}).call(this);(function(){google.y={};google.x=function(a,b){if(a)var c=a.id;else{do c=Math.random();while(google.y[c])}google.y[c]=[a,b];return!1};google.lm=[];google.plm=function(a){google.lm.push.apply(google.lm,a)};google.lq=[];google.load=function(a,b,c){google.lq.push([[a],b,c])};google.loadAll=function(a,b){google.lq.push([a,b])};google.bx=!1;google.lx=function(){};}).call(this);google.f={};(function(){\\ndocument.documentElement.addEventListener(\"submit\",function(b){var a;if(a=b.target){var c=a.getAttribute(\"data-submitfalse\");a=\"1\"==c||\"q\"==c&&!a.elements.q.value?!0:!1}else a=!1;a&&(b.preventDefault(),b.stopPropagation())},!0);document.documentElement.addEventListener(\"click\",function(b){var a;a:{for(a=b.target;a&&a!=document.documentElement;a=a.parentElement)if(\"A\"==a.tagName){a=\"1\"==a.getAttribute(\"data-nohref\");break a}a=!1}a&&b.preventDefault()},!0);}).call(this);\\nvar a=window.location,b=a.href.indexOf(\"#\");if(0<=b){var c=a.href.substring(b+1);/(^|&)q=/.test(c)&&-1==c.indexOf(\"#\")&&a.replace(\"/search?\"+c.replace(/(^|&)fp=[^&]*/g,\"\")+\"&cad=h\")};</script><style>#gbar,#guser{font-size:13px;padding-top:1px !important;}#gbar{height:22px}#guser{padding-bottom:7px !important;text-align:right}.gbh,.gbd{border-top:1px solid #c9d7f1;font-size:1px}.gbh{height:0;position:absolute;top:24px;width:100%}@media all{.gb1{height:22px;margin-right:.5em;vertical-align:top}#gbar{float:left}}a.gb1,a.gb4{text-decoration:underline !important}a.gb1,a.gb4{color:#00c !important}.gbi .gb4{color:#dd8e27 !important}.gbf .gb4{color:#900 !important}\\n</style><style>body,td,a,p,.h{font-family:&#44404;&#47548;,&#46027;&#50880;,arial,sans-serif}.ko{font-size:9pt}body{margin:0;overflow-y:scroll}#gog{padding:3px 8px 0}td{line-height:.8em}.gac_m td{line-height:17px}form{margin-bottom:20px}.h{color:#1558d6}em{font-weight:bold;font-style:normal}.lst{height:25px;width:496px}.gsfi,.lst{font:18px arial,sans-serif}.gsfs{font:17px arial,sans-serif}.ds{display:inline-box;display:inline-block;margin:3px 0 4px;margin-left:4px}input{font-family:inherit}body{background:#fff;color:#000}a{color:#4b11a8;text-decoration:none}a:hover,a:active{text-decoration:underline}.fl a{color:#1558d6}a:visited{color:#4b11a8}.sblc{padding-top:5px}.sblc a{display:block;margin:2px 0;margin-left:13px;font-size:11px}.lsbb{background:#f8f9fa;border:solid 1px;border-color:#dadce0 #70757a #70757a #dadce0;height:30px}.lsbb{display:block}#WqQANb a{display:inline-block;margin:0 12px}.lsb{background:url(/images/nav_logo229.png) 0 -261px repeat-x;border:none;color:#000;cursor:pointer;height:30px;margin:0;outline:0;font:15px arial,sans-serif;vertical-align:top}.lsb:active{background:#dadce0}.lst:focus{outline:none}.tiah{width:458px}</style><script nonce=\"OSM8lZF8+EO7IB/VGS5ppQ==\"></script></head><body bgcolor=\"#fff\"><script nonce=\"OSM8lZF8+EO7IB/VGS5ppQ==\">(function(){var src=\\'/images/nav_logo229.png\\';var iesg=false;document.body.onload = function(){window.n && window.n();if (document.images){new Image().src=src;}\\nif (!iesg){document.f&&document.f.q.focus();document.gbqf&&document.gbqf.q.focus();}\\n}\\n})();</script><div id=\"mngb\"><div id=gbar><nobr><b class=gb1>&#44160;&#49353;</b> <a class=gb1 href=\"https://www.google.co.kr/imghp?hl=ko&tab=wi\">&#51060;&#48120;&#51648;</a> <a class=gb1 href=\"https://maps.google.co.kr/maps?hl=ko&tab=wl\">&#51648;&#46020;</a> <a class=gb1 href=\"https://play.google.com/?hl=ko&tab=w8\">Play</a> <a class=gb1 href=\"https://www.youtube.com/?gl=KR&tab=w1\">YouTube</a> <a class=gb1 href=\"https://news.google.com/?tab=wn\">&#45684;&#49828;</a> <a class=gb1 href=\"https://mail.google.com/mail/?tab=wm\">Gmail</a> <a class=gb1 href=\"https://drive.google.com/?tab=wo\">&#46300;&#46972;&#51060;&#48652;</a> <a class=gb1 style=\"text-decoration:none\" href=\"https://www.google.co.kr/intl/ko/about/products?tab=wh\"><u>&#45908;&#48372;&#44592;</u> &raquo;</a></nobr></div><div id=guser width=100%><nobr><span id=gbn class=gbi></span><span id=gbf class=gbf></span><span id=gbe></span><a href=\"http://www.google.co.kr/history/optout?hl=ko\" class=gb4>&#50937; &#44592;&#47197;</a> | <a  href=\"/preferences?hl=ko\" class=gb4>&#49444;&#51221;</a> | <a target=_top id=gb_70 href=\"https://accounts.google.com/ServiceLogin?hl=ko&passive=true&continue=https://www.google.com/&ec=GAZAAQ\" class=gb4>&#47196;&#44536;&#51064;</a></nobr></div><div class=gbh style=left:0></div><div class=gbh style=right:0></div></div><center><br clear=\"all\" id=\"lgpd\"><div id=\"lga\"><img alt=\"Google\" height=\"92\" src=\"/images/branding/googlelogo/1x/googlelogo_white_background_color_272x92dp.png\" style=\"padding:28px 0 14px\" width=\"272\" id=\"hplogo\"><br><br></div><form action=\"/search\" name=\"f\"><table cellpadding=\"0\" cellspacing=\"0\"><tr valign=\"top\"><td width=\"25%\">&nbsp;</td><td align=\"center\" nowrap=\"\"><input name=\"ie\" value=\"ISO-8859-1\" type=\"hidden\"><input value=\"ko\" name=\"hl\" type=\"hidden\"><input name=\"source\" type=\"hidden\" value=\"hp\"><input name=\"biw\" type=\"hidden\"><input name=\"bih\" type=\"hidden\"><div class=\"ds\" style=\"height:32px;margin:4px 0\"><div style=\"position:relative;zoom:1\"><input class=\"lst tiah\" style=\"margin:0;padding:5px 8px 0 6px;vertical-align:top;color:#000;padding-right:38px\" autocomplete=\"off\" value=\"\" title=\"Google &#44160;&#49353;\" maxlength=\"2048\" name=\"q\" size=\"57\"><img src=\"/textinputassistant/tia.png\" style=\"position:absolute;cursor:pointer;right:5px;top:4px;z-index:300\" data-script-url=\"/textinputassistant/11/ko_tia.js\" id=\"tsuid1\" alt=\"\" height=\"23\" width=\"27\"><script nonce=\"OSM8lZF8+EO7IB/VGS5ppQ==\">(function(){var id=\\'tsuid1\\';document.getElementById(id).onclick = function(){var s = document.createElement(\\'script\\');s.src = this.getAttribute(\\'data-script-url\\');(document.getElementById(\\'xjsc\\')||document.body).appendChild(s);};})();</script></div></div><br style=\"line-height:0\"><span class=\"ds\"><span class=\"lsbb\"><input class=\"lsb\" value=\"Google &#44160;&#49353;\" name=\"btnG\" type=\"submit\"></span></span><span class=\"ds\"><span class=\"lsbb\"><input class=\"lsb\" id=\"tsuid2\" value=\"I&#8217;m Feeling Lucky\" name=\"btnI\" type=\"submit\"><script nonce=\"OSM8lZF8+EO7IB/VGS5ppQ==\">(function(){var id=\\'tsuid2\\';document.getElementById(id).onclick = function(){if (this.form.q.value){this.checked = 1;if (this.form.iflsig)this.form.iflsig.disabled = false;}\\nelse top.location=\\'/doodles/\\';};})();</script><input value=\"AINFCbYAAAAAYCH-nhciXzmD-FfgT1QVPxQo8sdKmmCu\" name=\"iflsig\" type=\"hidden\"></span></span></td><td class=\"fl sblc\" align=\"left\" nowrap=\"\" width=\"25%\"><a href=\"/advanced_search?hl=ko&amp;authuser=0\">&#44256;&#44553;&#44160;&#49353;</a></td></tr></table><input id=\"gbv\" name=\"gbv\" type=\"hidden\" value=\"1\"><script nonce=\"OSM8lZF8+EO7IB/VGS5ppQ==\">(function(){var a,b=\"1\";if(document&&document.getElementById)if(\"undefined\"!=typeof XMLHttpRequest)b=\"2\";else if(\"undefined\"!=typeof ActiveXObject){var c,d,e=[\"MSXML2.XMLHTTP.6.0\",\"MSXML2.XMLHTTP.3.0\",\"MSXML2.XMLHTTP\",\"Microsoft.XMLHTTP\"];for(c=0;d=e[c++];)try{new ActiveXObject(d),b=\"2\"}catch(h){}}a=b;if(\"2\"==a&&-1==location.search.indexOf(\"&gbv=2\")){var f=google.gbvu,g=document.getElementById(\"gbv\");g&&(g.value=a);f&&window.setTimeout(function(){location.href=f},0)};}).call(this);</script></form><div id=\"gac_scont\"></div><div style=\"font-size:83%;min-height:3.5em\"><br><div id=\"prm\"><style>.szppmdbYutt__middle-slot-promo{font-size:small;margin-bottom:32px}.szppmdbYutt__middle-slot-promo a.ZIeIlb{display:inline-block;text-decoration:none}.szppmdbYutt__middle-slot-promo img{border:none;margin-right:5px;vertical-align:middle}</style><div class=\"szppmdbYutt__middle-slot-promo\" data-ved=\"0ahUKEwjpkICH3tvuAhWUNaYKHWsPAGsQnIcBCAQ\"><img height=\"48\" src=\"https://www.google.com/images/hpp/shield_security_checkup_green_2x_web_96dp.png\" width=\"48\"><span>&#50724;&#45720;&#51008; &#50504;&#51204;&#54620; &#51064;&#53552;&#45367;&#51032; &#45216;&#51077;&#45768;&#45796;. </span><a class=\"NKcBbd\" href=\"https://www.google.com/url?q=https://myaccount.google.com/security-checkup%3Futm_medium%3Dhpp%26utm_source%3Dgoogle%26utm_campaign%3Dsaferinternetday2021&amp;source=hpp&amp;id=19022717&amp;ct=3&amp;usg=AFQjCNFhwwerjnXpezTyHzYtJLRRiAje4Q&amp;sa=X&amp;ved=0ahUKEwjpkICH3tvuAhWUNaYKHWsPAGsQ8IcBCAU\" rel=\"nofollow\">2&#48516;&#44036;&#51032; &#48372;&#50504; &#51652;&#45800;&#51004;&#47196; &#44228;&#51221; &#48372;&#50504;&#51012; &#44053;&#54868;&#54644;&#48372;&#49464;&#50836;</a><span>.</span></div></div></div><span id=\"footer\"><div style=\"font-size:10pt\"><div style=\"margin:19px auto;text-align:center\" id=\"WqQANb\"><a href=\"/intl/ko/ads/\">&#44305;&#44256; &#54532;&#47196;&#44536;&#47016;</a><a href=\"http://www.google.co.kr/intl/ko/services/\">&#48708;&#51592;&#45768;&#49828; &#49556;&#47336;&#49496;</a><a href=\"/intl/ko/about.html\">Google &#51221;&#48372;</a><a href=\"https://www.google.com/setprefdomain?prefdom=KR&amp;prev=https://www.google.co.kr/&amp;sig=K_6PQS7b-L_LSWQeT_IFrs27ZPPHM%3D\">Google.co.kr</a></div></div><p style=\"font-size:8pt;color:#70757a\">&copy; 2021 - <a href=\"/intl/ko/policies/privacy/\">&#44060;&#51064;&#51221;&#48372;&#52376;&#47532;&#48169;&#52840;</a> - <a href=\"/intl/ko/policies/terms/\">&#50557;&#44288;</a></p></span></center><script nonce=\"OSM8lZF8+EO7IB/VGS5ppQ==\">(function(){window.google.cdo={height:0,width:0};(function(){var a=window.innerWidth,b=window.innerHeight;if(!a||!b){var c=window.document,d=\"CSS1Compat\"==c.compatMode?c.documentElement:c.body;a=d.clientWidth;b=d.clientHeight}a&&b&&(a!=google.cdo.width||b!=google.cdo.height)&&google.log(\"\",\"\",\"/client_204?&atyp=i&biw=\"+a+\"&bih=\"+b+\"&ei=\"+google.kEI);}).call(this);})();(function(){var u=\\'/xjs/_/js/k\\\\x3dxjs.hp.en.rAIju6ykilg.O/m\\\\x3dsb_he,d/am\\\\x3dAHiCOA/d\\\\x3d1/rs\\\\x3dACT90oGgomsVc3s8k_G2gBCRXBPFFJIKxQ\\';\\nvar d=this||self,e=/^[\\\\w+/_-]+[=]{0,2}$/,f=null,g=function(a){return(a=a.querySelector&&a.querySelector(\"script[nonce]\"))&&(a=a.nonce||a.getAttribute(\"nonce\"))&&e.test(a)?a:\"\"},h=function(a){return a};var l;var n=function(a,b){this.g=b===m?a:\"\"};n.prototype.toString=function(){return this.g+\"\"};var m={};function p(){var a=u;google.lx=function(){q(a);google.lx=function(){}};google.bx||google.lx()}\\nfunction q(a){var b=document;var c=\"SCRIPT\";\"application/xhtml+xml\"===b.contentType&&(c=c.toLowerCase());c=b.createElement(c);if(void 0===l){b=null;var k=d.trustedTypes;if(k&&k.createPolicy){try{b=k.createPolicy(\"goog#html\",{createHTML:h,createScript:h,createScriptURL:h})}catch(r){d.console&&d.console.error(r.message)}l=b}else l=b}a=(b=l)?b.createScriptURL(a):a;a=new n(a,m);c.src=a instanceof n&&a.constructor===n?a.g:\"type_error:TrustedResourceUrl\";(a=c.ownerDocument&&c.ownerDocument.defaultView)&&\\na!=d?a=g(a.document):(null===f&&(f=g(d.document)),a=f);a&&c.setAttribute(\"nonce\",a);google.timers&&google.timers.load&&google.tick&&google.tick(\"load\",\"xjsls\");document.body.appendChild(c)};setTimeout(function(){p()},0);})();(function(){window.google.xjsu=\\'/xjs/_/js/k\\\\x3dxjs.hp.en.rAIju6ykilg.O/m\\\\x3dsb_he,d/am\\\\x3dAHiCOA/d\\\\x3d1/rs\\\\x3dACT90oGgomsVc3s8k_G2gBCRXBPFFJIKxQ\\';})();function _DumpException(e){throw e;}\\nfunction _F_installCss(c){}\\n(function(){google.jl={dw:false,em:[],emw:false,lls:\\'default\\',pdt:0,snet:true,uwp:true};})();(function(){var pmc=\\'{\\\\x22d\\\\x22:{},\\\\x22sb_he\\\\x22:{\\\\x22agen\\\\x22:true,\\\\x22cgen\\\\x22:true,\\\\x22client\\\\x22:\\\\x22heirloom-hp\\\\x22,\\\\x22dh\\\\x22:true,\\\\x22dhqt\\\\x22:true,\\\\x22ds\\\\x22:\\\\x22\\\\x22,\\\\x22ffql\\\\x22:\\\\x22ko\\\\x22,\\\\x22fl\\\\x22:true,\\\\x22host\\\\x22:\\\\x22google.com\\\\x22,\\\\x22isbh\\\\x22:28,\\\\x22jsonp\\\\x22:true,\\\\x22msgs\\\\x22:{\\\\x22cibl\\\\x22:\\\\x22&#44160;&#49353;&#50612; &#51648;&#50864;&#44592;\\\\x22,\\\\x22dym\\\\x22:\\\\x22&#51060;&#44163;&#51012; &#52286;&#51004;&#49512;&#45208;&#50836;?\\\\x22,\\\\x22lcky\\\\x22:\\\\x22I&#8217;m Feeling Lucky\\\\x22,\\\\x22lml\\\\x22:\\\\x22&#51088;&#49464;&#55176; &#50508;&#50500;&#48372;&#44592;\\\\x22,\\\\x22oskt\\\\x22:\\\\x22&#51077;&#47141; &#46020;&#44396;\\\\x22,\\\\x22psrc\\\\x22:\\\\x22&#44160;&#49353;&#50612;&#44032; \\\\\\\\u003Ca href\\\\x3d\\\\\\\\\\\\x22/history\\\\\\\\\\\\x22\\\\\\\\u003E&#50937; &#44592;&#47197;\\\\\\\\u003C/a\\\\\\\\u003E&#50640;&#49436; &#49325;&#51228;&#46104;&#50632;&#49845;&#45768;&#45796;.\\\\x22,\\\\x22psrl\\\\x22:\\\\x22&#49325;&#51228;\\\\x22,\\\\x22sbit\\\\x22:\\\\x22&#51060;&#48120;&#51648;&#47196; &#44160;&#49353;\\\\x22,\\\\x22srch\\\\x22:\\\\x22Google &#44160;&#49353;\\\\x22},\\\\x22nrft\\\\x22:false,\\\\x22ovr\\\\x22:{},\\\\x22pq\\\\x22:\\\\x22\\\\x22,\\\\x22refpd\\\\x22:true,\\\\x22refspre\\\\x22:true,\\\\x22rfs\\\\x22:[],\\\\x22sbas\\\\x22:\\\\x220 3px 8px 0 rgba(0,0,0,0.2),0 0 0 1px rgba(0,0,0,0.08)\\\\x22,\\\\x22sbpl\\\\x22:16,\\\\x22sbpr\\\\x22:16,\\\\x22scd\\\\x22:10,\\\\x22stok\\\\x22:\\\\x22HuJgwkeOS4ITtDUGIDJFlpLKQ6M\\\\x22,\\\\x22uhde\\\\x22:false}}\\';google.pmc=JSON.parse(pmc);})();</script>        </body></html>'\n"
     ]
    }
   ],
   "source": [
    "from urllib import request\n",
    "\n",
    "target = request.urlopen('https://www.google.com')\n",
    "output = target.read()\n",
    "\n",
    "print(output)"
   ]
  },
  {
   "cell_type": "code",
   "execution_count": 3,
   "metadata": {},
   "outputs": [
    {
     "ename": "OperationalError",
     "evalue": "no such table: usertable",
     "output_type": "error",
     "traceback": [
      "\u001b[0;31m---------------------------------------------------------------------------\u001b[0m",
      "\u001b[0;31mOperationalError\u001b[0m                          Traceback (most recent call last)",
      "\u001b[0;32m<ipython-input-3-041bd9fcf5cc>\u001b[0m in \u001b[0;36m<module>\u001b[0;34m\u001b[0m\n\u001b[1;32m     10\u001b[0m \u001b[0msql_select\u001b[0m \u001b[0;34m=\u001b[0m \u001b[0;34m'select * from usertable'\u001b[0m\u001b[0;34m\u001b[0m\u001b[0;34m\u001b[0m\u001b[0m\n\u001b[1;32m     11\u001b[0m \u001b[0;34m\u001b[0m\u001b[0m\n\u001b[0;32m---> 12\u001b[0;31m \u001b[0mcur\u001b[0m\u001b[0;34m.\u001b[0m\u001b[0mexecute\u001b[0m\u001b[0;34m(\u001b[0m\u001b[0msql_select\u001b[0m\u001b[0;34m)\u001b[0m\u001b[0;34m\u001b[0m\u001b[0;34m\u001b[0m\u001b[0m\n\u001b[0m\u001b[1;32m     13\u001b[0m \u001b[0;34m\u001b[0m\u001b[0m\n\u001b[1;32m     14\u001b[0m \u001b[0;34m\u001b[0m\u001b[0m\n",
      "\u001b[0;31mOperationalError\u001b[0m: no such table: usertable"
     ]
    }
   ],
   "source": [
    "import sqlite3\n",
    "\n",
    "# DB 연결\n",
    "con = sqlite3.connect('sample')\n",
    "\n",
    "# 커서 생성\n",
    "cur = con.cursor()\n",
    "\n",
    "#SQL\n",
    "sql_select = 'select * from usertable'\n",
    "\n",
    "cur.execute(sql_select)\n",
    "\n",
    "\n",
    "print('아이디 \\t이름\\t이메일\\t생일')\n",
    "print('-----------------------------')\n",
    "\n",
    "while True:\n",
    "    # 커서의 한줄을 가져오는 함수 : 가져올 행이 없으면 None\n",
    "    row = cur.fetchone()\n",
    "    \n",
    "    if row == None:\n",
    "        break\n",
    "        \n",
    "    print('{}\\t{}\\t{}\\t\\t{}'.format(row[0], row[1], row[2], row[3]))\n",
    "    \n",
    "con.close()"
   ]
  },
  {
   "cell_type": "code",
   "execution_count": 1,
   "metadata": {},
   "outputs": [
    {
     "name": "stdout",
     "output_type": "stream",
     "text": [
      "아이디를 입력해주세요. >> son\n",
      "이름을 임력해주세요. >> 손흥민\n",
      "이메일을 입력해주세요. >>son@gmail.com\n",
      "태어난 년도를 입력해주세요. >>2000\n"
     ]
    },
    {
     "ename": "OperationalError",
     "evalue": "no such table: usertable",
     "output_type": "error",
     "traceback": [
      "\u001b[0;31m---------------------------------------------------------------------------\u001b[0m",
      "\u001b[0;31mOperationalError\u001b[0m                          Traceback (most recent call last)",
      "\u001b[0;32m<ipython-input-1-182a09289a0e>\u001b[0m in \u001b[0;36m<module>\u001b[0;34m\u001b[0m\n\u001b[1;32m     12\u001b[0m \u001b[0;31m# Sql\u001b[0m\u001b[0;34m\u001b[0m\u001b[0;34m\u001b[0m\u001b[0;34m\u001b[0m\u001b[0m\n\u001b[1;32m     13\u001b[0m \u001b[0msql_insert\u001b[0m \u001b[0;34m=\u001b[0m \u001b[0;34m'insert into usertable values (\\'{}\\', \\'{}\\', \\'{}\\', {})'\u001b[0m\u001b[0;34m.\u001b[0m\u001b[0mformat\u001b[0m\u001b[0;34m(\u001b[0m\u001b[0muser_id\u001b[0m\u001b[0;34m,\u001b[0m \u001b[0muser_name\u001b[0m\u001b[0;34m,\u001b[0m \u001b[0muser_email\u001b[0m\u001b[0;34m,\u001b[0m \u001b[0muser_birth_year\u001b[0m\u001b[0;34m)\u001b[0m\u001b[0;34m\u001b[0m\u001b[0;34m\u001b[0m\u001b[0m\n\u001b[0;32m---> 14\u001b[0;31m \u001b[0mcur\u001b[0m\u001b[0;34m.\u001b[0m\u001b[0mexecute\u001b[0m\u001b[0;34m(\u001b[0m\u001b[0msql_insert\u001b[0m\u001b[0;34m)\u001b[0m\u001b[0;34m\u001b[0m\u001b[0;34m\u001b[0m\u001b[0m\n\u001b[0m\u001b[1;32m     15\u001b[0m \u001b[0;34m\u001b[0m\u001b[0m\n\u001b[1;32m     16\u001b[0m \u001b[0mcon\u001b[0m\u001b[0;34m.\u001b[0m\u001b[0mcommit\u001b[0m\u001b[0;34m(\u001b[0m\u001b[0;34m)\u001b[0m\u001b[0;34m\u001b[0m\u001b[0;34m\u001b[0m\u001b[0m\n",
      "\u001b[0;31mOperationalError\u001b[0m: no such table: usertable"
     ]
    }
   ],
   "source": [
    "import sqlite3\n",
    "\n",
    "# DB 연결\n",
    "con = sqlite3.connect('sample')\n",
    "cur = con.cursor()\n",
    "\n",
    "user_id = input('아이디를 입력해주세요. >> ')\n",
    "user_name = input('이름을 임력해주세요. >> ')\n",
    "user_email = input('이메일을 입력해주세요. >>')\n",
    "user_birth_year = int(input('태어난 년도를 입력해주세요. >>'))\n",
    "\n",
    "# Sql\n",
    "sql_insert = 'insert into usertable values (\\'{}\\', \\'{}\\', \\'{}\\', {})'.format(user_id, user_name, user_email, user_birth_year)\n",
    "cur.execute(sql_insert)\n",
    "\n",
    "con.commit()\n",
    "con.close()"
   ]
  },
  {
   "cell_type": "code",
   "execution_count": 4,
   "metadata": {},
   "outputs": [
    {
     "name": "stdout",
     "output_type": "stream",
     "text": [
      "Package             Version\r\n",
      "------------------- -------\r\n",
      "appnope             0.1.2\r\n",
      "argon2-cffi         20.1.0\r\n",
      "astroid             2.4.2\r\n",
      "async-generator     1.10\r\n",
      "attrs               20.3.0\r\n",
      "backcall            0.2.0\r\n",
      "beautifulsoup4      4.9.3\r\n",
      "bleach              3.3.0\r\n",
      "cffi                1.14.4\r\n",
      "click               7.1.2\r\n",
      "decorator           4.4.2\r\n",
      "defusedxml          0.6.0\r\n",
      "entrypoints         0.3\r\n",
      "Flask               1.1.2\r\n",
      "ipykernel           5.4.3\r\n",
      "ipython             7.20.0\r\n",
      "ipython-genutils    0.2.0\r\n",
      "ipywidgets          7.6.3\r\n",
      "isort               5.7.0\r\n",
      "itsdangerous        1.1.0\r\n",
      "jedi                0.18.0\r\n",
      "Jinja2              2.11.3\r\n",
      "jsonschema          3.2.0\r\n",
      "jupyter             1.0.0\r\n",
      "jupyter-client      6.1.11\r\n",
      "jupyter-console     6.2.0\r\n",
      "jupyter-core        4.7.1\r\n",
      "jupyterlab-pygments 0.1.2\r\n",
      "jupyterlab-widgets  1.0.0\r\n",
      "lazy-object-proxy   1.4.3\r\n",
      "MarkupSafe          1.1.1\r\n",
      "mccabe              0.6.1\r\n",
      "mistune             0.8.4\r\n",
      "nbclient            0.5.1\r\n",
      "nbconvert           6.0.7\r\n",
      "nbformat            5.1.2\r\n",
      "nest-asyncio        1.5.1\r\n",
      "notebook            6.2.0\r\n",
      "packaging           20.9\r\n",
      "pandocfilters       1.4.3\r\n",
      "parso               0.8.1\r\n",
      "pexpect             4.8.0\r\n",
      "pickleshare         0.7.5\r\n",
      "pip                 21.0.1\r\n",
      "prometheus-client   0.9.0\r\n",
      "prompt-toolkit      3.0.14\r\n",
      "ptyprocess          0.7.0\r\n",
      "pycparser           2.20\r\n",
      "Pygments            2.7.4\r\n",
      "pylint              2.6.0\r\n",
      "pyparsing           2.4.7\r\n",
      "pyrsistent          0.17.3\r\n",
      "python-dateutil     2.8.1\r\n",
      "pyzmq               22.0.2\r\n",
      "qtconsole           5.0.2\r\n",
      "QtPy                1.9.0\r\n",
      "Send2Trash          1.5.0\r\n",
      "setuptools          49.2.1\r\n",
      "six                 1.15.0\r\n",
      "soupsieve           2.1\r\n",
      "terminado           0.9.2\r\n",
      "testpath            0.4.4\r\n",
      "toml                0.10.2\r\n",
      "tornado             6.1\r\n",
      "traitlets           5.0.5\r\n",
      "wcwidth             0.2.5\r\n",
      "webencodings        0.5.1\r\n",
      "Werkzeug            1.0.1\r\n",
      "widgetsnbextension  3.5.1\r\n",
      "wrapt               1.12.1\r\n"
     ]
    }
   ],
   "source": [
    "!pip3 list"
   ]
  },
  {
   "cell_type": "code",
   "execution_count": 5,
   "metadata": {},
   "outputs": [
    {
     "name": "stdout",
     "output_type": "stream",
     "text": [
      "Collecting PyMySql\n",
      "  Downloading PyMySQL-1.0.2-py3-none-any.whl (43 kB)\n",
      "\u001b[K     |████████████████████████████████| 43 kB 338 kB/s eta 0:00:01\n",
      "\u001b[?25hInstalling collected packages: PyMySql\n",
      "Successfully installed PyMySql-1.0.2\n"
     ]
    }
   ],
   "source": [
    "!pip install PyMySql"
   ]
  },
  {
   "cell_type": "code",
   "execution_count": 6,
   "metadata": {},
   "outputs": [
    {
     "name": "stdout",
     "output_type": "stream",
     "text": [
      "Name: PyMySQL\r\n",
      "Version: 1.0.2\r\n",
      "Summary: Pure Python MySQL Driver\r\n",
      "Home-page: https://github.com/PyMySQL/PyMySQL/\r\n",
      "Author: yutaka.matsubara\r\n",
      "Author-email: yutaka.matsubara@gmail.com\r\n",
      "License: \"MIT\"\r\n",
      "Location: /Library/Frameworks/Python.framework/Versions/3.8/lib/python3.8/site-packages\r\n",
      "Requires: \r\n",
      "Required-by: \r\n"
     ]
    }
   ],
   "source": [
    "!pip show PyMySql"
   ]
  },
  {
   "cell_type": "code",
   "execution_count": 12,
   "metadata": {},
   "outputs": [
    {
     "ename": "ModuleNotFoundError",
     "evalue": "No module named 'pymysql'",
     "output_type": "error",
     "traceback": [
      "\u001b[0;31m---------------------------------------------------------------------------\u001b[0m",
      "\u001b[0;31mModuleNotFoundError\u001b[0m                       Traceback (most recent call last)",
      "\u001b[0;32m<ipython-input-12-c7148d22f324>\u001b[0m in \u001b[0;36m<module>\u001b[0;34m\u001b[0m\n\u001b[0;32m----> 1\u001b[0;31m \u001b[0;32mimport\u001b[0m \u001b[0mpymysql\u001b[0m\u001b[0;34m\u001b[0m\u001b[0;34m\u001b[0m\u001b[0m\n\u001b[0m\u001b[1;32m      2\u001b[0m \u001b[0;34m\u001b[0m\u001b[0m\n\u001b[1;32m      3\u001b[0m \u001b[0mproject_db\u001b[0m \u001b[0;34m=\u001b[0m \u001b[0mpymysql\u001b[0m\u001b[0;34m.\u001b[0m\u001b[0mconnect\u001b[0m\u001b[0;34m(\u001b[0m\u001b[0mhost\u001b[0m\u001b[0;34m=\u001b[0m\u001b[0;34m'127.0.0.1'\u001b[0m\u001b[0;34m,\u001b[0m \u001b[0mdb\u001b[0m\u001b[0;34m=\u001b[0m\u001b[0;34m'open'\u001b[0m\u001b[0;34m,\u001b[0m \u001b[0muser\u001b[0m\u001b[0;34m=\u001b[0m\u001b[0;34m'seoa'\u001b[0m\u001b[0;34m,\u001b[0m \u001b[0mpassword\u001b[0m\u001b[0;34m=\u001b[0m\u001b[0;34m'tdtggx97'\u001b[0m\u001b[0;34m,\u001b[0m \u001b[0mcharset\u001b[0m\u001b[0;34m=\u001b[0m\u001b[0;34m'utf8'\u001b[0m\u001b[0;34m)\u001b[0m\u001b[0;34m\u001b[0m\u001b[0;34m\u001b[0m\u001b[0m\n\u001b[1;32m      4\u001b[0m \u001b[0;34m\u001b[0m\u001b[0m\n\u001b[1;32m      5\u001b[0m \u001b[0mcursor1\u001b[0m \u001b[0;34m=\u001b[0m \u001b[0mproject_db\u001b[0m\u001b[0;34m.\u001b[0m\u001b[0mcursor\u001b[0m\u001b[0;34m(\u001b[0m\u001b[0;34m)\u001b[0m\u001b[0;34m\u001b[0m\u001b[0;34m\u001b[0m\u001b[0m\n",
      "\u001b[0;31mModuleNotFoundError\u001b[0m: No module named 'pymysql'"
     ]
    }
   ],
   "source": [
    "import pymysql\n",
    "\n",
    "project_db = pymysql.connect(host='127.0.0.1', db='open', user='seoa', password='tdtggx97', charset='utf8')\n",
    "\n",
    "cursor1 = project_db.cursor()\n",
    "\n",
    "sql_select = 'select * from member'\n",
    "\n",
    "cursor1.execute(sql_select)\n",
    "\n",
    "while True:\n",
    "    print(cursor1.fetchone())\n",
    "    \n",
    "    if row == None:\n",
    "        break\n",
    "        \n",
    "    print(row)\n",
    "    \n",
    "project_db.close"
   ]
  },
  {
   "cell_type": "code",
   "execution_count": null,
   "metadata": {},
   "outputs": [],
   "source": []
  }
 ],
 "metadata": {
  "kernelspec": {
   "display_name": "Python 3",
   "language": "python",
   "name": "python3"
  },
  "language_info": {
   "codemirror_mode": {
    "name": "ipython",
    "version": 3
   },
   "file_extension": ".py",
   "mimetype": "text/x-python",
   "name": "python",
   "nbconvert_exporter": "python",
   "pygments_lexer": "ipython3",
   "version": "3.8.5"
  }
 },
 "nbformat": 4,
 "nbformat_minor": 4
}
