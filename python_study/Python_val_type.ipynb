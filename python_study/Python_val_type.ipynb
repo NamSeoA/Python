{
 "cells": [
  {
   "cell_type": "code",
   "execution_count": 1,
   "metadata": {},
   "outputs": [
    {
     "name": "stdout",
     "output_type": "stream",
     "text": [
      "안녕하세요 저는 손흥민입니다. 반갑습니다.\n"
     ]
    }
   ],
   "source": [
    "print('안녕하세요', '저는 손흥민입니다.', '반갑습니다.') # , 를 하면 가운데에 공백이 생김(공백이 들어가면 안되는 상황에선 유의하자)"
   ]
  },
  {
   "cell_type": "code",
   "execution_count": 3,
   "metadata": {},
   "outputs": [
    {
     "name": "stdout",
     "output_type": "stream",
     "text": [
      "안녕하세요\n",
      "저는 손흥민입니다. \n",
      "반갑습니다.\n"
     ]
    }
   ],
   "source": [
    "print(\"\"\"안녕하세요\n",
    "저는 손흥민입니다. \n",
    "반갑습니다.\"\"\") # \"\"\"  여러 줄 문자열 기능 활용  \"\"\""
   ]
  },
  {
   "cell_type": "code",
   "execution_count": 5,
   "metadata": {},
   "outputs": [
    {
     "name": "stdout",
     "output_type": "stream",
     "text": [
      "안녕하세요\n",
      "저는 손흥민입니다. \n",
      "반갑습니다.\n"
     ]
    }
   ],
   "source": [
    "print(\"\"\"\\ \n",
    "안녕하세요\n",
    "저는 손흥민입니다. \n",
    "반갑습니다.\\\n",
    "\"\"\") # \\ 개행하지않도록 함"
   ]
  },
  {
   "cell_type": "code",
   "execution_count": 6,
   "metadata": {},
   "outputs": [
    {
     "name": "stdout",
     "output_type": "stream",
     "text": [
      "안녕하세요안녕하세요안녕하세요\n"
     ]
    }
   ],
   "source": [
    "print('안녕하세요'*3) # *는 사칙연산의 곱하기가 아님. 문자열 반복!!!!"
   ]
  },
  {
   "cell_type": "code",
   "execution_count": 7,
   "metadata": {},
   "outputs": [
    {
     "name": "stdout",
     "output_type": "stream",
     "text": [
      "hi~hi~hi~\n"
     ]
    }
   ],
   "source": [
    "print(3*'hi~')"
   ]
  },
  {
   "cell_type": "code",
   "execution_count": 14,
   "metadata": {},
   "outputs": [
    {
     "name": "stdout",
     "output_type": "stream",
     "text": [
      "안녕하세요\n",
      "안\n",
      "녕\n",
      "하\n",
      "세\n",
      "요\n"
     ]
    }
   ],
   "source": [
    "print('안녕하세요') # 문자열 배열\n",
    "print('안녕하세요'[0])\n",
    "print('안녕하세요'[1])\n",
    "print('안녕하세요'[2])\n",
    "print('안녕하세요'[3])\n",
    "print('안녕하세요'[4])\n",
    "# print('안녕하세요'[5]) 에러! string index out of range"
   ]
  },
  {
   "cell_type": "code",
   "execution_count": 15,
   "metadata": {},
   "outputs": [
    {
     "name": "stdout",
     "output_type": "stream",
     "text": [
      "안녕하세요\n",
      "요\n",
      "세\n",
      "하\n",
      "녕\n",
      "안\n"
     ]
    }
   ],
   "source": [
    "print('안녕하세요') # 문자 역순\n",
    "print('안녕하세요'[-1])\n",
    "print('안녕하세요'[-2])\n",
    "print('안녕하세요'[-3])\n",
    "print('안녕하세요'[-4])\n",
    "print('안녕하세요'[-5])"
   ]
  },
  {
   "cell_type": "code",
   "execution_count": 16,
   "metadata": {},
   "outputs": [
    {
     "name": "stdout",
     "output_type": "stream",
     "text": [
      "하세\n"
     ]
    }
   ],
   "source": [
    "print('안녕하세요'[2:4]) # 문자열의 특정범위를 선택"
   ]
  },
  {
   "cell_type": "code",
   "execution_count": 18,
   "metadata": {},
   "outputs": [
    {
     "name": "stdout",
     "output_type": "stream",
     "text": [
      "안녕하\n"
     ]
    }
   ],
   "source": [
    "print('안녕하세요'[:3]) # 0 ~ 2 (3미만)"
   ]
  },
  {
   "cell_type": "code",
   "execution_count": 19,
   "metadata": {},
   "outputs": [
    {
     "name": "stdout",
     "output_type": "stream",
     "text": [
      "<class 'str'>\n",
      "안녕하\n",
      "안녕하세요\n"
     ]
    }
   ],
   "source": [
    "hello = '안녕하세요'\n",
    "print(type(hello))\n",
    "print(hello[:3])\n",
    "print(hello)"
   ]
  },
  {
   "cell_type": "code",
   "execution_count": 21,
   "metadata": {
    "collapsed": true
   },
   "outputs": [
    {
     "name": "stdout",
     "output_type": "stream",
     "text": [
      "5\n",
      "5\n"
     ]
    }
   ],
   "source": [
    "# len() : 문자열 길이 구할 때 사용\n",
    "print(len(\"안녕하세요\"))\n",
    "print(len(hello)) # 위에서 실행 시켰기 때문에 메모리에 올라가 있어서 사용 가능"
   ]
  },
  {
   "cell_type": "code",
   "execution_count": 22,
   "metadata": {
    "collapsed": true
   },
   "outputs": [
    {
     "name": "stdout",
     "output_type": "stream",
     "text": [
      "<class 'int'>\n",
      "<class 'float'>\n"
     ]
    }
   ],
   "source": [
    "# 파이썬의 숫자 표현은 정수와 실수로 나누어 처리\n",
    "# int , float\n",
    "print(type(111))\n",
    "print(type(10.11))"
   ]
  },
  {
   "cell_type": "code",
   "execution_count": 24,
   "metadata": {
    "collapsed": true
   },
   "outputs": [
    {
     "name": "stdout",
     "output_type": "stream",
     "text": [
      "3.3333333333333335\n",
      "3\n",
      "3\n",
      "1\n"
     ]
    }
   ],
   "source": [
    "# 나누기 연산자\n",
    "# 파이썬의 나누기 연산 결과는 정수간의 연산이라도 결과가 실수로 표현\n",
    "print(10/3)\n",
    "print(int(10/3))\n",
    "print(10//3) # 정수부분만 결과로 반환 !!! -> 몫을 구하는 연산\n",
    "print(10%3)"
   ]
  },
  {
   "cell_type": "code",
   "execution_count": 25,
   "metadata": {
    "collapsed": true
   },
   "outputs": [
    {
     "name": "stdout",
     "output_type": "stream",
     "text": [
      "2\n",
      "4\n",
      "8\n",
      "16\n"
     ]
    }
   ],
   "source": [
    "# 제곱 연산 : **\n",
    "print(2**1)\n",
    "print(2**2)\n",
    "print(2**3)\n",
    "print(2**4)\n"
   ]
  },
  {
   "cell_type": "code",
   "execution_count": 26,
   "metadata": {},
   "outputs": [
    {
     "ename": "TypeError",
     "evalue": "can only concatenate str (not \"int\") to str",
     "output_type": "error",
     "traceback": [
      "\u001b[0;31m---------------------------------------------------------------------------\u001b[0m",
      "\u001b[0;31mTypeError\u001b[0m                                 Traceback (most recent call last)",
      "\u001b[0;32m<ipython-input-26-4a801d874a15>\u001b[0m in \u001b[0;36m<module>\u001b[0;34m\u001b[0m\n\u001b[1;32m      1\u001b[0m \u001b[0;31m# TypeError\u001b[0m\u001b[0;34m\u001b[0m\u001b[0;34m\u001b[0m\u001b[0;34m\u001b[0m\u001b[0m\n\u001b[0;32m----> 2\u001b[0;31m \u001b[0mprint\u001b[0m\u001b[0;34m(\u001b[0m\u001b[0;34m'hi~!!'\u001b[0m\u001b[0;34m+\u001b[0m\u001b[0;36m1\u001b[0m\u001b[0;34m)\u001b[0m\u001b[0;34m\u001b[0m\u001b[0;34m\u001b[0m\u001b[0m\n\u001b[0m",
      "\u001b[0;31mTypeError\u001b[0m: can only concatenate str (not \"int\") to str"
     ]
    }
   ],
   "source": [
    "# TypeError\n",
    "print('hi~!!'+1) # str + int 연산 불가 (타입을 맞춰줘야한다)"
   ]
  },
  {
   "cell_type": "code",
   "execution_count": 28,
   "metadata": {},
   "outputs": [
    {
     "name": "stdout",
     "output_type": "stream",
     "text": [
      "정수 값 하나를 입력해주세요 >>>11\n",
      "<class 'str'> 11\n",
      "<class 'int'> 11\n"
     ]
    }
   ],
   "source": [
    "# input() : 데이터를 입력 받을 때 사용\n",
    "number = input('정수 값 하나를 입력해주세요 >>>')\n",
    "print(type(number), number) # number는 input함수에서 반환한 타입이 str이기 때문에 number는 str이다\n",
    "number = int(number) # number를 int로 변환\n",
    "print(type(number), number+100) # int"
   ]
  },
  {
   "cell_type": "code",
   "execution_count": 33,
   "metadata": {
    "scrolled": true
   },
   "outputs": [
    {
     "ename": "ValueError",
     "evalue": "invalid literal for int() with base 10: '111.111'",
     "output_type": "error",
     "traceback": [
      "\u001b[0;31m---------------------------------------------------------------------------\u001b[0m",
      "\u001b[0;31mValueError\u001b[0m                                Traceback (most recent call last)",
      "\u001b[0;32m<ipython-input-33-f678a279b2b2>\u001b[0m in \u001b[0;36m<module>\u001b[0;34m\u001b[0m\n\u001b[1;32m      2\u001b[0m \u001b[0;31m# int('hi')\u001b[0m\u001b[0;34m\u001b[0m\u001b[0;34m\u001b[0m\u001b[0;34m\u001b[0m\u001b[0m\n\u001b[1;32m      3\u001b[0m \u001b[0;31m# float('hello') #could not convert string to float: 'hello'\u001b[0m\u001b[0;34m\u001b[0m\u001b[0;34m\u001b[0m\u001b[0;34m\u001b[0m\u001b[0m\n\u001b[0;32m----> 4\u001b[0;31m \u001b[0mint\u001b[0m\u001b[0;34m(\u001b[0m\u001b[0;34m'111.111'\u001b[0m\u001b[0;34m)\u001b[0m\u001b[0;34m\u001b[0m\u001b[0;34m\u001b[0m\u001b[0m\n\u001b[0m",
      "\u001b[0;31mValueError\u001b[0m: invalid literal for int() with base 10: '111.111'"
     ]
    }
   ],
   "source": [
    "# ValueError : 변환할 수 없는 것을 변환하려 할 경우\n",
    "# int('hi')\n",
    "# float('hello') #could not convert string to float: 'hello'\n",
    "int('111.111')"
   ]
  },
  {
   "cell_type": "code",
   "execution_count": 43,
   "metadata": {
    "scrolled": true
   },
   "outputs": [
    {
     "name": "stdout",
     "output_type": "stream",
     "text": [
      "5000만원\n",
      "첫 연봉 5000만원 만들기\n",
      "10 20 30\n",
      "1000 False 문자열\n",
      "<class 'bool'>\n",
      "1000 False 문자열\n"
     ]
    }
   ],
   "source": [
    "# format() : 숫자를 문자열로 변환(중괄호 개수와 format함수 안 매개변수의 개수가 같아야함, 중괄호 기호가 함수 괄호 안의 매개변수로 차례로 대치되면서 숫자가 문자열이 됨)\n",
    "format_a =\"{}만원\".format(5000)\n",
    "format_b = \"첫 연봉 {}만원 만들기\".format(5000)\n",
    "format_c = \"{} {} {}\".format(10, 20, 30)\n",
    "format_d = \"{} {} {}\".format(1000, False, \"문자열\")\n",
    "format_e = \"{} {} {}\".format(1000, False, \"문자열\", 5000)\n",
    "\n",
    "\n",
    "print(format_a)\n",
    "print(format_b)\n",
    "print(format_c)\n",
    "print(format_d)\n",
    "print(type(True))\n",
    "print(format_e)"
   ]
  },
  {
   "cell_type": "code",
   "execution_count": 56,
   "metadata": {},
   "outputs": [
    {
     "name": "stdout",
     "output_type": "stream",
     "text": [
      "5000만원\n",
      "첫 연봉 5000만원 만들기\n",
      "10 20 30\n",
      "1000 True 문자열\n",
      "<class 'bool'>\n"
     ]
    }
   ],
   "source": [
    "# format() : 숫자를 문자열로 변환(중괄호 개수와 format함수 안 매개변수의 개수가 같아야함, 중괄호 기호가 함수 괄호 안의 매개변수로 차례로 대치되면서 숫자가 문자열이 됨)\n",
    "format_a =\"{}만원\".format(5000)\n",
    "format_b = \"첫 연봉 {}만원 만들기\".format(5000)\n",
    "format_c = \"{} {} {}\".format(10, 20, 30)\n",
    "format_d = \"{} {} {}\".format(1000, True, \"문자열\")\n",
    "\n",
    "print(format_a)\n",
    "print(format_b)\n",
    "print(format_c)\n",
    "print(format_d)\n",
    "print(type(True))"
   ]
  },
  {
   "cell_type": "code",
   "execution_count": 47,
   "metadata": {},
   "outputs": [
    {
     "name": "stdout",
     "output_type": "stream",
     "text": [
      "False\n",
      "True\n",
      "False\n",
      "True\n"
     ]
    }
   ],
   "source": [
    "# isalnum() : 문자열이 알파벳 또는 숫자로만 구성되어 있는지 확인\n",
    "# isalpha() : 문자열이 알파벳으로만 구성되어 있는지 확인\n",
    "print('hello~123'.isalnum())\n",
    "print('hello123'.isalnum())\n",
    "print('hello123'.isalpha())\n",
    "print('123'.isdigit())"
   ]
  },
  {
   "cell_type": "code",
   "execution_count": 52,
   "metadata": {},
   "outputs": [
    {
     "name": "stdout",
     "output_type": "stream",
     "text": [
      "2\n"
     ]
    }
   ],
   "source": [
    "# find() : 특정 문자가 문자열 내부에 어디에 위치하는지 찾을 때 사용\n",
    "print('안녕하세요.'.find('하'))"
   ]
  },
  {
   "cell_type": "code",
   "execution_count": 54,
   "metadata": {},
   "outputs": [
    {
     "name": "stdout",
     "output_type": "stream",
     "text": [
      "True\n",
      "False\n"
     ]
    }
   ],
   "source": [
    "# in연산자 : 문자열 내부에 어떤 문자열이 있는지 확인할 때 사용\n",
    "print('안녕' in '안녕하세요')\n",
    "print('좋아요' in '안녕하세요')"
   ]
  },
  {
   "cell_type": "code",
   "execution_count": 57,
   "metadata": {},
   "outputs": [
    {
     "name": "stdout",
     "output_type": "stream",
     "text": [
      "<class 'list'> ['10', '20', '30', '40', '50', '60', '70']\n",
      "<class 'list'> ['10 20 30 40 50 60 70']\n"
     ]
    }
   ],
   "source": [
    "# split() : 문자열을 특정한 문자로 자를 때 사용\n",
    "numbers = '10 20 30 40 50 60 70'.split(' ')\n",
    "print(type(numbers), numbers)\n",
    "numbers = '10 20 30 40 50 60 70'.split(',')\n",
    "print(type(numbers), numbers)"
   ]
  }
 ],
 "metadata": {
  "kernelspec": {
   "display_name": "Python 3",
   "language": "python",
   "name": "python3"
  },
  "language_info": {
   "codemirror_mode": {
    "name": "ipython",
    "version": 3
   },
   "file_extension": ".py",
   "mimetype": "text/x-python",
   "name": "python",
   "nbconvert_exporter": "python",
   "pygments_lexer": "ipython3",
   "version": "3.8.5"
  }
 },
 "nbformat": 4,
 "nbformat_minor": 4
}
